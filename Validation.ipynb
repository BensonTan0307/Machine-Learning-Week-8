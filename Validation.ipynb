{
 "cells": [
  {
   "cell_type": "code",
   "execution_count": 1,
   "id": "94cbc332",
   "metadata": {},
   "outputs": [],
   "source": [
    "from tensorflow.keras.preprocessing import image\n",
    "import tensorflow as tf\n",
    "import numpy as np\n",
    "from tensorflow.keras.preprocessing.image import ImageDataGenerator\n",
    "\n"
   ]
  },
  {
   "cell_type": "code",
   "execution_count": 2,
   "id": "87b9eb3e",
   "metadata": {},
   "outputs": [],
   "source": [
    "# Set up data path for test directory\n",
    "test_dir = 'C:/Users/User/Desktop/FurnitureTrainingSet3'\n"
   ]
  },
  {
   "cell_type": "code",
   "execution_count": 3,
   "id": "bf2bede8",
   "metadata": {},
   "outputs": [
    {
     "name": "stdout",
     "output_type": "stream",
     "text": [
      "Found 11769 images belonging to 13 classes.\n"
     ]
    }
   ],
   "source": [
    "# Set up data generator to flow from directory\n",
    "test_datagen = ImageDataGenerator(rescale=1./255)\n",
    "\n",
    "test_generator = test_datagen.flow_from_directory(\n",
    "        test_dir,\n",
    "        target_size=(150, 150),\n",
    "        batch_size=1,\n",
    "        class_mode='categorical',\n",
    "        shuffle=False)\n"
   ]
  },
  {
   "cell_type": "code",
   "execution_count": 4,
   "id": "e36bf736",
   "metadata": {},
   "outputs": [],
   "source": [
    "# Load the trained model\n",
    "model = tf.keras.models.load_model('Model2_Train20.h5')\n"
   ]
  },
  {
   "cell_type": "code",
   "execution_count": 5,
   "id": "25722bec",
   "metadata": {},
   "outputs": [
    {
     "name": "stdout",
     "output_type": "stream",
     "text": [
      "Predicted class: 1_Tablesdesks\n",
      "Probability: 1.0\n"
     ]
    }
   ],
   "source": [
    "# Load a test image\n",
    "test_image = tf.keras.preprocessing.image.load_img('./table.jpeg', target_size=(150, 150))\n",
    "test_image = tf.keras.preprocessing.image.img_to_array(test_image)\n",
    "\n",
    "# Reshape the image to a 4D tensor with shape (1, 150, 150, 3)\n",
    "test_image = np.expand_dims(test_image, axis=0)\n",
    "\n",
    "# Predict the class of the test image\n",
    "prediction = model.predict(test_image)\n",
    "predicted_class = np.argmax(prediction[0])\n",
    "class_prob = prediction[0][predicted_class]\n",
    "class_label = list(test_generator.class_indices.keys())[list(test_generator.class_indices.values()).index(predicted_class)]\n",
    "\n",
    "print(f\"Predicted class: {class_label}\")\n",
    "print(f\"Probability: {class_prob}\")\n"
   ]
  },
  {
   "cell_type": "code",
   "execution_count": 6,
   "id": "7a4ee96b",
   "metadata": {},
   "outputs": [
    {
     "name": "stdout",
     "output_type": "stream",
     "text": [
      "Predicted class: 2_ChairsStoolsbenches\n",
      "Probability: 1.0\n"
     ]
    }
   ],
   "source": [
    "\n",
    "# Load a test image\n",
    "test_image = tf.keras.preprocessing.image.load_img('./chair.jpeg', target_size=(150, 150))\n",
    "test_image = tf.keras.preprocessing.image.img_to_array(test_image)\n",
    "\n",
    "# Reshape the image to a 4D tensor with shape (1, 150, 150, 3)\n",
    "test_image = np.expand_dims(test_image, axis=0)\n",
    "\n",
    "# Predict the class of the test image\n",
    "prediction = model.predict(test_image)\n",
    "predicted_class = np.argmax(prediction[0])\n",
    "class_prob = prediction[0][predicted_class]\n",
    "class_label = list(test_generator.class_indices.keys())[list(test_generator.class_indices.values()).index(predicted_class)]\n",
    "\n",
    "print(f\"Predicted class: {class_label}\")\n",
    "print(f\"Probability: {class_prob}\")\n"
   ]
  },
  {
   "cell_type": "code",
   "execution_count": 1,
   "id": "585cba53",
   "metadata": {},
   "outputs": [
    {
     "name": "stdout",
     "output_type": "stream",
     "text": [
      "NumPy version: 1.21.5\n",
      "TensorFlow version: 2.8.0\n",
      "h5py version: 3.8.0\n",
      "OpenCV version: 4.7.0\n",
      "tensorflow.keras version: 2.8.0\n",
      "keras_preprocessing version: 1.1.2\n",
      "Pillow version: 8.4.0\n"
     ]
    }
   ],
   "source": [
    "import numpy as np\n",
    "import tensorflow as tf\n",
    "import h5py\n",
    "import cv2\n",
    "\n",
    "print(\"NumPy version:\", np.__version__)\n",
    "print(\"TensorFlow version:\", tf.__version__)\n",
    "print(\"h5py version:\", h5py.__version__)\n",
    "print(\"OpenCV version:\", cv2.__version__)\n",
    "\n",
    "import tensorflow.keras\n",
    "import keras_preprocessing\n",
    "from PIL import Image\n",
    "\n",
    "print(\"tensorflow.keras version:\", tensorflow.keras.__version__)\n",
    "print(\"keras_preprocessing version:\", keras_preprocessing.__version__)\n",
    "print(\"Pillow version:\", Image.__version__)\n"
   ]
  },
  {
   "cell_type": "code",
   "execution_count": 4,
   "id": "bde23a11",
   "metadata": {},
   "outputs": [
    {
     "ename": "SyntaxError",
     "evalue": "invalid syntax (Temp/ipykernel_18108/1098559577.py, line 1)",
     "output_type": "error",
     "traceback": [
      "\u001b[1;36m  File \u001b[1;32m\"C:\\Users\\User\\AppData\\Local\\Temp/ipykernel_18108/1098559577.py\"\u001b[1;36m, line \u001b[1;32m1\u001b[0m\n\u001b[1;33m    pip freeze | findstr  numpy\u001b[0m\n\u001b[1;37m        ^\u001b[0m\n\u001b[1;31mSyntaxError\u001b[0m\u001b[1;31m:\u001b[0m invalid syntax\n"
     ]
    }
   ],
   "source": [
    "pip freeze | findstr  numpy\n",
    "pip freeze | findstr  tensorflow\n",
    "pip freeze | findstr  h5py\n",
    "pip freeze | findstr  opencv-python\n",
    "pip freeze | findstr  keras\n",
    "pip freeze | findstr  keras-preprocessing\n",
    "pip freeze | findstr  Pillow\n",
    "\n",
    "\n"
   ]
  },
  {
   "cell_type": "code",
   "execution_count": null,
   "id": "14f0e234",
   "metadata": {},
   "outputs": [],
   "source": []
  }
 ],
 "metadata": {
  "kernelspec": {
   "display_name": "Python 3 (ipykernel)",
   "language": "python",
   "name": "python3"
  },
  "language_info": {
   "codemirror_mode": {
    "name": "ipython",
    "version": 3
   },
   "file_extension": ".py",
   "mimetype": "text/x-python",
   "name": "python",
   "nbconvert_exporter": "python",
   "pygments_lexer": "ipython3",
   "version": "3.9.7"
  }
 },
 "nbformat": 4,
 "nbformat_minor": 5
}
