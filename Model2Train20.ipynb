{
 "cells": [
  {
   "cell_type": "code",
   "execution_count": 1,
   "id": "4d979bb8-e6c8-4ca4-beec-c9f9cf63680a",
   "metadata": {
    "tags": []
   },
   "outputs": [],
   "source": [
    "# Import necessary libraries\n",
    "import os\n",
    "import numpy as np\n",
    "import tensorflow as tf\n",
    "import h5py\n",
    "from tensorflow.keras.preprocessing.image import ImageDataGenerator\n",
    "from tensorflow.keras.models import Sequential\n",
    "from tensorflow.keras.layers import Dense, Conv2D, MaxPooling2D, Flatten\n",
    "\n",
    "#Code to increase the memory of GPU\n",
    "physical_devices = tf.config.list_physical_devices('GPU')\n",
    "tf.config.experimental.set_memory_growth(physical_devices[0], True)\n"
   ]
  },
  {
   "cell_type": "code",
   "execution_count": 2,
   "id": "d9a69ebd-b08f-4ed7-aae5-7938de4fbbd2",
   "metadata": {},
   "outputs": [],
   "source": [
    "# Set up data paths\n",
    "data_dir =  'C:/Users/User/Desktop/FurnitureTrainingSet3_Model1'\n",
    "\n",
    "# Set up data paths\n",
    "train_dir = 'C:/Users/User/Desktop/FurnitureTrainingSet3_Model1/train'\n",
    "val_dir = 'C:/Users/User/Desktop/FurnitureTrainingSet3_Model1/val'\n"
   ]
  },
  {
   "cell_type": "code",
   "execution_count": 3,
   "id": "70986ba8-41a4-4d80-8cbb-f780bc3baf8d",
   "metadata": {},
   "outputs": [],
   "source": [
    "# Set up data generators for data augmentation\n",
    "train_datagen = ImageDataGenerator(rescale=1./255,\n",
    "                                   shear_range=0.2,\n",
    "                                   zoom_range=0.2,\n",
    "                                   horizontal_flip=True)\n",
    "\n",
    "val_datagen = ImageDataGenerator(rescale=1./255)\n"
   ]
  },
  {
   "cell_type": "code",
   "execution_count": 4,
   "id": "30da4514-0636-4ace-af1a-43ecd1351105",
   "metadata": {},
   "outputs": [
    {
     "name": "stdout",
     "output_type": "stream",
     "text": [
      "Found 9409 images belonging to 13 classes.\n",
      "Found 2360 images belonging to 13 classes.\n"
     ]
    }
   ],
   "source": [
    "# Set up data generator to flow from directory\n",
    "train_generator = train_datagen.flow_from_directory(train_dir,\n",
    "                                                    target_size=(150, 150),\n",
    "                                                    batch_size=32,\n",
    "                                                    class_mode='categorical')\n",
    "\n",
    "val_generator = val_datagen.flow_from_directory(val_dir,\n",
    "                                                target_size=(150, 150),\n",
    "                                                batch_size=32,\n",
    "                                                class_mode='categorical')\n",
    "\n"
   ]
  },
  {
   "cell_type": "code",
   "execution_count": 5,
   "id": "4eb42990-c80f-4963-b2d5-5a529c84257c",
   "metadata": {},
   "outputs": [],
   "source": [
    "# Build the CNN model\n",
    "model = Sequential()\n"
   ]
  },
  {
   "cell_type": "code",
   "execution_count": 6,
   "id": "d7593af4-5329-4217-94bb-1d867ff1a24f",
   "metadata": {},
   "outputs": [],
   "source": [
    "# Convolutional layer 1\n",
    "model.add(Conv2D(32, (3, 3), activation='relu', input_shape=(150, 150, 3)))\n",
    "model.add(MaxPooling2D((2, 2)))\n"
   ]
  },
  {
   "cell_type": "code",
   "execution_count": 7,
   "id": "2c197251-8d32-4c59-9666-c866c80aa9df",
   "metadata": {
    "tags": []
   },
   "outputs": [],
   "source": [
    "# Convolutional layer 2\n",
    "model.add(Conv2D(64, (3, 3), activation='relu'))\n",
    "model.add(MaxPooling2D((2, 2)))\n"
   ]
  },
  {
   "cell_type": "code",
   "execution_count": 8,
   "id": "ae8ba06c-2a57-453a-bd79-045e0d2628bc",
   "metadata": {},
   "outputs": [],
   "source": [
    "# Convolutional layer 3\n",
    "model.add(Conv2D(128, (3, 3), activation='relu'))\n",
    "model.add(MaxPooling2D((2, 2)))\n"
   ]
  },
  {
   "cell_type": "code",
   "execution_count": 9,
   "id": "89ad4329",
   "metadata": {},
   "outputs": [],
   "source": [
    "# Convolutional layer 4\n",
    "model.add(Conv2D(256, (3, 3), activation='relu'))\n",
    "model.add(MaxPooling2D((2, 2)))\n"
   ]
  },
  {
   "cell_type": "markdown",
   "id": "b4018f85",
   "metadata": {},
   "source": [
    "# Convolutional layer 5\n",
    "model.add(Conv2D(512, (3, 3), activation='relu'))\n",
    "model.add(MaxPooling2D((2, 2)))\n"
   ]
  },
  {
   "cell_type": "code",
   "execution_count": 10,
   "id": "3ea44091-3718-4d85-8fc0-69d343904bde",
   "metadata": {},
   "outputs": [],
   "source": [
    "# Flatten and fully connected layer\n",
    "model.add(Flatten())\n",
    "model.add(Dense(256, activation='relu'))\n",
    "model.add(Dense(train_generator.num_classes, activation='softmax'))\n"
   ]
  },
  {
   "cell_type": "code",
   "execution_count": 11,
   "id": "7bf1d674-554d-4ec7-842b-4198fa7149ca",
   "metadata": {
    "tags": []
   },
   "outputs": [],
   "source": [
    "# Compile the model\n",
    "model.compile(optimizer='adam',\n",
    "              loss='categorical_crossentropy',\n",
    "              metrics=['accuracy'])\n"
   ]
  },
  {
   "cell_type": "code",
   "execution_count": 12,
   "id": "042caaa5-90cf-42dd-8e90-07a8eac5845b",
   "metadata": {},
   "outputs": [
    {
     "name": "stdout",
     "output_type": "stream",
     "text": [
      "Epoch 1/50\n",
      "295/295 [==============================] - 129s 422ms/step - loss: 1.8559 - accuracy: 0.3889 - val_loss: 1.4736 - val_accuracy: 0.5110\n",
      "Epoch 2/50\n",
      "295/295 [==============================] - 121s 411ms/step - loss: 1.3616 - accuracy: 0.5412 - val_loss: 1.1667 - val_accuracy: 0.6055\n",
      "Epoch 3/50\n",
      "295/295 [==============================] - 116s 393ms/step - loss: 1.1194 - accuracy: 0.6086 - val_loss: 0.9899 - val_accuracy: 0.6424\n",
      "Epoch 4/50\n",
      "295/295 [==============================] - 115s 390ms/step - loss: 0.9848 - accuracy: 0.6514 - val_loss: 0.9148 - val_accuracy: 0.6703\n",
      "Epoch 5/50\n",
      "295/295 [==============================] - 117s 395ms/step - loss: 0.9235 - accuracy: 0.6616 - val_loss: 0.8989 - val_accuracy: 0.6631\n",
      "Epoch 6/50\n",
      "295/295 [==============================] - 115s 391ms/step - loss: 0.8259 - accuracy: 0.6915 - val_loss: 0.8588 - val_accuracy: 0.6750\n",
      "Epoch 7/50\n",
      "295/295 [==============================] - 115s 391ms/step - loss: 0.7613 - accuracy: 0.7082 - val_loss: 0.8389 - val_accuracy: 0.6936\n",
      "Epoch 8/50\n",
      "295/295 [==============================] - 115s 390ms/step - loss: 0.8588 - accuracy: 0.6762 - val_loss: 0.7684 - val_accuracy: 0.6907\n",
      "Epoch 9/50\n",
      "295/295 [==============================] - 115s 389ms/step - loss: 0.6914 - accuracy: 0.7274 - val_loss: 0.7605 - val_accuracy: 0.7034\n",
      "Epoch 10/50\n",
      "295/295 [==============================] - 115s 388ms/step - loss: 0.7018 - accuracy: 0.7297 - val_loss: 0.7748 - val_accuracy: 0.7030\n",
      "Epoch 11/50\n",
      "295/295 [==============================] - 114s 388ms/step - loss: 0.6499 - accuracy: 0.7389 - val_loss: 0.7479 - val_accuracy: 0.7034\n",
      "Epoch 12/50\n",
      "295/295 [==============================] - 115s 390ms/step - loss: 0.5893 - accuracy: 0.7578 - val_loss: 0.7257 - val_accuracy: 0.7136\n",
      "Epoch 13/50\n",
      "295/295 [==============================] - 115s 390ms/step - loss: 0.5809 - accuracy: 0.7599 - val_loss: 0.7452 - val_accuracy: 0.7034\n",
      "Epoch 14/50\n",
      "295/295 [==============================] - 120s 406ms/step - loss: 0.5641 - accuracy: 0.7663 - val_loss: 0.7532 - val_accuracy: 0.6987\n",
      "Epoch 15/50\n",
      "295/295 [==============================] - 115s 390ms/step - loss: 0.5283 - accuracy: 0.7811 - val_loss: 0.7826 - val_accuracy: 0.7059\n",
      "Epoch 16/50\n",
      "295/295 [==============================] - 116s 392ms/step - loss: 0.5140 - accuracy: 0.7822 - val_loss: 0.7297 - val_accuracy: 0.7114\n",
      "Epoch 17/50\n",
      "295/295 [==============================] - 115s 390ms/step - loss: 0.4908 - accuracy: 0.7886 - val_loss: 0.7625 - val_accuracy: 0.7076\n",
      "Epoch 18/50\n",
      "295/295 [==============================] - 115s 390ms/step - loss: 0.4822 - accuracy: 0.7929 - val_loss: 0.7794 - val_accuracy: 0.7153\n",
      "Epoch 19/50\n",
      "295/295 [==============================] - 115s 389ms/step - loss: 0.4808 - accuracy: 0.7907 - val_loss: 0.7533 - val_accuracy: 0.7064\n",
      "Epoch 20/50\n",
      "295/295 [==============================] - 115s 389ms/step - loss: 0.4700 - accuracy: 0.7934 - val_loss: 0.7323 - val_accuracy: 0.7059\n",
      "Epoch 21/50\n",
      "295/295 [==============================] - 115s 390ms/step - loss: 0.4408 - accuracy: 0.8039 - val_loss: 0.7376 - val_accuracy: 0.7072\n",
      "Epoch 22/50\n",
      "295/295 [==============================] - 115s 388ms/step - loss: 0.4515 - accuracy: 0.8047 - val_loss: 0.7273 - val_accuracy: 0.7144\n",
      "Epoch 23/50\n",
      "295/295 [==============================] - 115s 389ms/step - loss: 0.4309 - accuracy: 0.8068 - val_loss: 0.7592 - val_accuracy: 0.7047\n",
      "Epoch 24/50\n",
      "295/295 [==============================] - 115s 388ms/step - loss: 0.4200 - accuracy: 0.8104 - val_loss: 0.8070 - val_accuracy: 0.6949\n",
      "Epoch 25/50\n",
      "295/295 [==============================] - 120s 407ms/step - loss: 0.4491 - accuracy: 0.8016 - val_loss: 0.7676 - val_accuracy: 0.6886\n",
      "Epoch 26/50\n",
      "295/295 [==============================] - 115s 391ms/step - loss: 0.4422 - accuracy: 0.8107 - val_loss: 0.7639 - val_accuracy: 0.7051\n",
      "Epoch 27/50\n",
      "295/295 [==============================] - 115s 390ms/step - loss: 0.4107 - accuracy: 0.8102 - val_loss: 0.7683 - val_accuracy: 0.7136\n",
      "Epoch 28/50\n",
      "295/295 [==============================] - 115s 390ms/step - loss: 0.4008 - accuracy: 0.8194 - val_loss: 0.7859 - val_accuracy: 0.7186\n",
      "Epoch 29/50\n",
      "295/295 [==============================] - 116s 392ms/step - loss: 0.3895 - accuracy: 0.8216 - val_loss: 0.7642 - val_accuracy: 0.7013\n",
      "Epoch 30/50\n",
      "295/295 [==============================] - 115s 390ms/step - loss: 0.3830 - accuracy: 0.8228 - val_loss: 0.7595 - val_accuracy: 0.7110\n",
      "Epoch 31/50\n",
      "295/295 [==============================] - 115s 390ms/step - loss: 0.3850 - accuracy: 0.8235 - val_loss: 0.7655 - val_accuracy: 0.7038\n",
      "Epoch 32/50\n",
      "295/295 [==============================] - 115s 388ms/step - loss: 0.3802 - accuracy: 0.8208 - val_loss: 0.8348 - val_accuracy: 0.7025\n",
      "Epoch 33/50\n",
      "295/295 [==============================] - 114s 388ms/step - loss: 0.3766 - accuracy: 0.8250 - val_loss: 0.8167 - val_accuracy: 0.7089\n",
      "Epoch 34/50\n",
      "295/295 [==============================] - 115s 389ms/step - loss: 0.3729 - accuracy: 0.8253 - val_loss: 0.8407 - val_accuracy: 0.6924\n",
      "Epoch 35/50\n",
      "295/295 [==============================] - 115s 388ms/step - loss: 0.3771 - accuracy: 0.8231 - val_loss: 0.8443 - val_accuracy: 0.7000\n",
      "Epoch 36/50\n",
      "295/295 [==============================] - 115s 390ms/step - loss: 0.3756 - accuracy: 0.8267 - val_loss: 0.8010 - val_accuracy: 0.6970\n",
      "Epoch 37/50\n",
      "295/295 [==============================] - 115s 391ms/step - loss: 0.3657 - accuracy: 0.8272 - val_loss: 0.8594 - val_accuracy: 0.7047\n",
      "Epoch 38/50\n",
      "295/295 [==============================] - 115s 389ms/step - loss: 0.3512 - accuracy: 0.8363 - val_loss: 0.8167 - val_accuracy: 0.7097\n",
      "Epoch 39/50\n",
      "295/295 [==============================] - 115s 390ms/step - loss: 0.3418 - accuracy: 0.8334 - val_loss: 0.8248 - val_accuracy: 0.6979\n",
      "Epoch 40/50\n",
      "295/295 [==============================] - 115s 391ms/step - loss: 0.3434 - accuracy: 0.8342 - val_loss: 0.8431 - val_accuracy: 0.6987\n",
      "Epoch 41/50\n",
      "295/295 [==============================] - 115s 389ms/step - loss: 0.3431 - accuracy: 0.8355 - val_loss: 0.8329 - val_accuracy: 0.7000\n",
      "Epoch 42/50\n",
      "295/295 [==============================] - 115s 390ms/step - loss: 0.3403 - accuracy: 0.8383 - val_loss: 0.8386 - val_accuracy: 0.7064\n",
      "Epoch 43/50\n",
      "295/295 [==============================] - 115s 389ms/step - loss: 0.3383 - accuracy: 0.8369 - val_loss: 0.8931 - val_accuracy: 0.7072\n",
      "Epoch 44/50\n",
      "295/295 [==============================] - 116s 392ms/step - loss: 0.3534 - accuracy: 0.8338 - val_loss: 0.8810 - val_accuracy: 0.7072\n",
      "Epoch 45/50\n",
      "295/295 [==============================] - 115s 388ms/step - loss: 0.3317 - accuracy: 0.8391 - val_loss: 0.9599 - val_accuracy: 0.6911\n",
      "Epoch 46/50\n",
      "295/295 [==============================] - 115s 389ms/step - loss: 0.3369 - accuracy: 0.8356 - val_loss: 0.8250 - val_accuracy: 0.7081\n",
      "Epoch 47/50\n",
      "295/295 [==============================] - 115s 389ms/step - loss: 0.3505 - accuracy: 0.8288 - val_loss: 0.8113 - val_accuracy: 0.6975\n",
      "Epoch 48/50\n",
      "295/295 [==============================] - 115s 390ms/step - loss: 0.3351 - accuracy: 0.8349 - val_loss: 0.8410 - val_accuracy: 0.7059\n",
      "Epoch 49/50\n",
      "295/295 [==============================] - 115s 389ms/step - loss: 0.3343 - accuracy: 0.8382 - val_loss: 0.8342 - val_accuracy: 0.6970\n",
      "Epoch 50/50\n",
      "295/295 [==============================] - 115s 390ms/step - loss: 0.3437 - accuracy: 0.8335 - val_loss: 0.8115 - val_accuracy: 0.7119\n"
     ]
    }
   ],
   "source": [
    "# Train the model\n",
    "history = model.fit(train_generator,\n",
    "                    steps_per_epoch=len(train_generator),\n",
    "                    epochs=50,\n",
    "                    validation_data=val_generator,\n",
    "                    validation_steps=len(val_generator))\n"
   ]
  },
  {
   "cell_type": "code",
   "execution_count": 13,
   "id": "72917adf-fd34-44b4-b0e0-ceef72e902d8",
   "metadata": {},
   "outputs": [],
   "source": [
    "path = ('Model2_Train20.h5')\n"
   ]
  },
  {
   "cell_type": "code",
   "execution_count": 14,
   "id": "c782ae23-aa8e-42c2-94f5-b9d24097348b",
   "metadata": {},
   "outputs": [],
   "source": [
    "# Save the model\n",
    "model.save(path)\n"
   ]
  },
  {
   "cell_type": "code",
   "execution_count": 15,
   "id": "bcdd7adf-1367-473b-b7ae-da537c118296",
   "metadata": {},
   "outputs": [
    {
     "name": "stdout",
     "output_type": "stream",
     "text": [
      "Finished Training\n",
      "Model2_Train20.h5 saved\n"
     ]
    }
   ],
   "source": [
    "print('Finished Training')\n",
    "print(path +' saved')"
   ]
  }
 ],
 "metadata": {
  "kernelspec": {
   "display_name": "Python 3 (ipykernel)",
   "language": "python",
   "name": "python3"
  },
  "language_info": {
   "codemirror_mode": {
    "name": "ipython",
    "version": 3
   },
   "file_extension": ".py",
   "mimetype": "text/x-python",
   "name": "python",
   "nbconvert_exporter": "python",
   "pygments_lexer": "ipython3",
   "version": "3.9.7"
  }
 },
 "nbformat": 4,
 "nbformat_minor": 5
}
